{
 "cells": [
  {
   "cell_type": "markdown",
   "metadata": {},
   "source": [
    "# Dictionary\n",
    "    * stores a map of one object (KEY) to another (VALUE)\n",
    "    * simillar to Map in JAVA or objects in JS\n",
    "    * the KEY must be immutable (string, numbers, tuple)\n",
    "    * the VALUE can be of any datatype\n",
    "    * The ordering of the keys depends on the hashing algorithm, so it is arbiraty\n",
    "    * your code must not rely on the ordering of the KEYS\n",
    "    * use {} to create a dictionary"
   ]
  },
  {
   "cell_type": "code",
   "execution_count": 1,
   "metadata": {},
   "outputs": [
    {
     "name": "stdout",
     "output_type": "stream",
     "text": [
      "{'ridu': 89, 'hasan': 75, 'nafis': 90}\n"
     ]
    }
   ],
   "source": [
    "stdDict = {'ridu': 89, 'hasan': 75, 'nafis': 90}\n",
    "print(stdDict)"
   ]
  },
  {
   "cell_type": "code",
   "execution_count": 2,
   "metadata": {},
   "outputs": [
    {
     "name": "stdout",
     "output_type": "stream",
     "text": [
      "75\n"
     ]
    }
   ],
   "source": [
    "print(stdDict['hasan'])"
   ]
  },
  {
   "cell_type": "code",
   "execution_count": 3,
   "metadata": {},
   "outputs": [
    {
     "name": "stdout",
     "output_type": "stream",
     "text": [
      "{'ridu': 89.3, 'hasan': 75, 'nafis': 90}\n"
     ]
    }
   ],
   "source": [
    "stdDict['ridu'] = 89.30\n",
    "print(stdDict)"
   ]
  },
  {
   "cell_type": "code",
   "execution_count": 4,
   "metadata": {},
   "outputs": [
    {
     "name": "stdout",
     "output_type": "stream",
     "text": [
      "{'ridu': 89.3, 'hasan': 75, 'nafis': 90, 'abc': 45}\n"
     ]
    }
   ],
   "source": [
    "stdDict['abc'] = 45\n",
    "print(stdDict)"
   ]
  },
  {
   "cell_type": "code",
   "execution_count": 5,
   "metadata": {},
   "outputs": [
    {
     "name": "stdout",
     "output_type": "stream",
     "text": [
      "ridu\n",
      "hasan\n",
      "nafis\n",
      "abc\n"
     ]
    }
   ],
   "source": [
    "for s in stdDict:\n",
    "    print(s)"
   ]
  },
  {
   "cell_type": "code",
   "execution_count": 8,
   "metadata": {},
   "outputs": [
    {
     "name": "stdout",
     "output_type": "stream",
     "text": [
      "ridu got 89.30 marks in the midterm\n",
      "hasan got 75.00 marks in the midterm\n",
      "nafis got 90.00 marks in the midterm\n",
      "abc got 45.00 marks in the midterm\n"
     ]
    }
   ],
   "source": [
    "for s in stdDict:\n",
    "    n = stdDict[s]\n",
    "    print('%s got %0.2f marks in the midterm' % (s,n) )"
   ]
  },
  {
   "cell_type": "code",
   "execution_count": 9,
   "metadata": {},
   "outputs": [
    {
     "name": "stdout",
     "output_type": "stream",
     "text": [
      "ridu got 89.30 marks in the midterm\n",
      "hasan got 75.00 marks in the midterm\n",
      "nafis got 90.00 marks in the midterm\n",
      "abc got 45.00 marks in the midterm\n"
     ]
    }
   ],
   "source": [
    "for s,m in stdDict.items():\n",
    "    print('%s got %0.2f marks in the midterm' % (s,m) )"
   ]
  },
  {
   "cell_type": "code",
   "execution_count": 10,
   "metadata": {},
   "outputs": [
    {
     "name": "stdout",
     "output_type": "stream",
     "text": [
      "{0: 0, 1: 1, 2: 4, 3: 9, 4: 16, 5: 25}\n"
     ]
    }
   ],
   "source": [
    "nums = [0,1,2,3,4,5]\n",
    "num_sq = {a: a**2 for a in nums}\n",
    "print(num_sq)"
   ]
  },
  {
   "cell_type": "code",
   "execution_count": 11,
   "metadata": {},
   "outputs": [
    {
     "name": "stdout",
     "output_type": "stream",
     "text": [
      "{0: 0, 2: 4, 4: 16}\n"
     ]
    }
   ],
   "source": [
    "num_sq_even = {a: a**2 for a in nums if a %2 == 0}\n",
    "print(num_sq_even)"
   ]
  },
  {
   "cell_type": "code",
   "execution_count": 13,
   "metadata": {},
   "outputs": [
    {
     "name": "stdout",
     "output_type": "stream",
     "text": [
      "[0, 2, 4, 6, 8, 10]\n"
     ]
    }
   ],
   "source": [
    "def addition(a):\n",
    "    return a+a\n",
    "\n",
    "nums = [0,1,2,3,4,5]\n",
    "res = map(addition, nums)\n",
    "print(list(res))"
   ]
  },
  {
   "cell_type": "code",
   "execution_count": 15,
   "metadata": {},
   "outputs": [
    {
     "data": {
      "text/plain": [
       "[0, 2, 4, 6, 8, 10]"
      ]
     },
     "execution_count": 15,
     "metadata": {},
     "output_type": "execute_result"
    }
   ],
   "source": [
    "list(map(lambda a: a+a, nums))"
   ]
  },
  {
   "cell_type": "code",
   "execution_count": 18,
   "metadata": {},
   "outputs": [
    {
     "data": {
      "text/plain": [
       "[4, 5]"
      ]
     },
     "execution_count": 18,
     "metadata": {},
     "output_type": "execute_result"
    }
   ],
   "source": [
    "list(filter(lambda i: i>3, nums))"
   ]
  },
  {
   "cell_type": "code",
   "execution_count": null,
   "metadata": {},
   "outputs": [],
   "source": []
  }
 ],
 "metadata": {
  "kernelspec": {
   "display_name": "Python 3",
   "language": "python",
   "name": "python3"
  },
  "language_info": {
   "codemirror_mode": {
    "name": "ipython",
    "version": 3
   },
   "file_extension": ".py",
   "mimetype": "text/x-python",
   "name": "python",
   "nbconvert_exporter": "python",
   "pygments_lexer": "ipython3",
   "version": "3.7.4"
  }
 },
 "nbformat": 4,
 "nbformat_minor": 2
}
