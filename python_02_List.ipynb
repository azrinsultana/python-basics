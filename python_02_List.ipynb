{
 "cells": [
  {
   "cell_type": "markdown",
   "metadata": {},
   "source": [
    "# Data Structures\n",
    "    * Built-in\n",
    "        > List\n",
    "        > Dictionary\n",
    "        > Tuple\n",
    "        > Set\n",
    "    * User defined\n",
    "        > Stack\n",
    "        > Queue\n",
    "        > Tree\n",
    "        > Graph\n",
    "        > Linked list\n",
    "        > Hashmap"
   ]
  },
  {
   "cell_type": "markdown",
   "metadata": {},
   "source": [
    "# List\n",
    "    * Stores a sequence of items\n",
    "    * can store different datatypes\n",
    "    * lists are mutable\n",
    "    * use [] to create a list"
   ]
  },
  {
   "cell_type": "code",
   "execution_count": 1,
   "metadata": {},
   "outputs": [
    {
     "name": "stdout",
     "output_type": "stream",
     "text": [
      "['C', 'C++', 'JAVA', 'C Sharp']\n"
     ]
    }
   ],
   "source": [
    "language_courses = ['C', 'C++', 'JAVA', 'C Sharp']\n",
    "print(language_courses)"
   ]
  },
  {
   "cell_type": "code",
   "execution_count": 2,
   "metadata": {},
   "outputs": [
    {
     "name": "stdout",
     "output_type": "stream",
     "text": [
      "JAVA\n"
     ]
    }
   ],
   "source": [
    "print(language_courses[2])"
   ]
  },
  {
   "cell_type": "code",
   "execution_count": 3,
   "metadata": {},
   "outputs": [
    {
     "name": "stdout",
     "output_type": "stream",
     "text": [
      "C Sharp\n"
     ]
    }
   ],
   "source": [
    "print(language_courses[-1])"
   ]
  },
  {
   "cell_type": "code",
   "execution_count": 4,
   "metadata": {},
   "outputs": [
    {
     "name": "stdout",
     "output_type": "stream",
     "text": [
      "C\n"
     ]
    }
   ],
   "source": [
    "print(language_courses[-4])"
   ]
  },
  {
   "cell_type": "code",
   "execution_count": 5,
   "metadata": {},
   "outputs": [
    {
     "name": "stdout",
     "output_type": "stream",
     "text": [
      "C\n",
      "C++\n",
      "JAVA\n",
      "C Sharp\n"
     ]
    }
   ],
   "source": [
    "for i in language_courses:\n",
    "    print(i)"
   ]
  },
  {
   "cell_type": "code",
   "execution_count": 6,
   "metadata": {},
   "outputs": [
    {
     "name": "stdout",
     "output_type": "stream",
     "text": [
      "0\n",
      "1\n",
      "2\n",
      "3\n",
      "4\n"
     ]
    }
   ],
   "source": [
    "for i in range(5):\n",
    "    print(i)"
   ]
  },
  {
   "cell_type": "code",
   "execution_count": 7,
   "metadata": {},
   "outputs": [
    {
     "name": "stdout",
     "output_type": "stream",
     "text": [
      "0\n",
      "1\n",
      "2\n",
      "3\n",
      "4\n"
     ]
    }
   ],
   "source": [
    "for i in [0, 1, 2, 3, 4]:\n",
    "    print(i)"
   ]
  },
  {
   "cell_type": "code",
   "execution_count": 8,
   "metadata": {},
   "outputs": [
    {
     "name": "stdout",
     "output_type": "stream",
     "text": [
      "index: 0 item: C\n",
      "index: 1 item: C++\n",
      "index: 2 item: JAVA\n",
      "index: 3 item: C Sharp\n"
     ]
    }
   ],
   "source": [
    "for i in range(4):\n",
    "    print('index: %d item: %s' % (i, language_courses[i]) )"
   ]
  },
  {
   "cell_type": "code",
   "execution_count": 9,
   "metadata": {},
   "outputs": [
    {
     "name": "stdout",
     "output_type": "stream",
     "text": [
      "index: 0 item: C\n",
      "index: 1 item: C++\n",
      "index: 2 item: JAVA\n",
      "index: 3 item: C Sharp\n"
     ]
    }
   ],
   "source": [
    "for i,c in enumerate(language_courses):\n",
    "    print('index: %d item: %s' % (i, c) )"
   ]
  },
  {
   "cell_type": "code",
   "execution_count": 10,
   "metadata": {},
   "outputs": [
    {
     "name": "stdout",
     "output_type": "stream",
     "text": [
      "[0, 1, 4, 9, 16, 25]\n"
     ]
    }
   ],
   "source": [
    "nums = [0, 1, 2, 3, 4, 5]\n",
    "nums_sq = []\n",
    "\n",
    "for i in nums:\n",
    "    nums_sq.append(i ** 2)\n",
    "print(nums_sq)\n"
   ]
  },
  {
   "cell_type": "markdown",
   "metadata": {},
   "source": [
    "# List comprehensions"
   ]
  },
  {
   "cell_type": "code",
   "execution_count": 11,
   "metadata": {},
   "outputs": [
    {
     "name": "stdout",
     "output_type": "stream",
     "text": [
      "[0, 1, 4, 9, 16, 25]\n"
     ]
    }
   ],
   "source": [
    "sq = [a ** 2 for a in nums]\n",
    "print(sq)"
   ]
  },
  {
   "cell_type": "code",
   "execution_count": 12,
   "metadata": {},
   "outputs": [
    {
     "name": "stdout",
     "output_type": "stream",
     "text": [
      "[0, 4, 16]\n"
     ]
    }
   ],
   "source": [
    "sq_even = [a ** 2 for a in nums if a%2 == 0]\n",
    "print(sq_even)"
   ]
  },
  {
   "cell_type": "markdown",
   "metadata": {},
   "source": [
    "# Update & Add & delete"
   ]
  },
  {
   "cell_type": "code",
   "execution_count": 14,
   "metadata": {},
   "outputs": [
    {
     "name": "stdout",
     "output_type": "stream",
     "text": [
      "['C', 'C++', 'JAVA', 'C Sharp']\n"
     ]
    }
   ],
   "source": [
    "print(language_courses)"
   ]
  },
  {
   "cell_type": "code",
   "execution_count": 15,
   "metadata": {},
   "outputs": [
    {
     "name": "stdout",
     "output_type": "stream",
     "text": [
      "['C', 'C++', 'JAVA', 'C#']\n"
     ]
    }
   ],
   "source": [
    "language_courses[3] = 'C#'\n",
    "print(language_courses)"
   ]
  },
  {
   "cell_type": "code",
   "execution_count": 16,
   "metadata": {},
   "outputs": [
    {
     "name": "stdout",
     "output_type": "stream",
     "text": [
      "['C', 'C++', 'JAVA', 'C#', 'Python']\n"
     ]
    }
   ],
   "source": [
    "language_courses.append('Python')\n",
    "print(language_courses)"
   ]
  },
  {
   "cell_type": "code",
   "execution_count": 17,
   "metadata": {},
   "outputs": [
    {
     "name": "stdout",
     "output_type": "stream",
     "text": [
      "['C', 'C++', 'JAVA', 'JS', 'C#', 'PHP', 'Python']\n"
     ]
    }
   ],
   "source": [
    "language_courses.insert(3, 'JS')\n",
    "language_courses.insert(5, 'PHP')\n",
    "print(language_courses)"
   ]
  },
  {
   "cell_type": "code",
   "execution_count": 18,
   "metadata": {},
   "outputs": [
    {
     "name": "stdout",
     "output_type": "stream",
     "text": [
      "['C', 'C++', 'JAVA', 'JS', 'C#', 'PHP', 'Python', 'Data Structure', 'Algo', 'AI']\n"
     ]
    }
   ],
   "source": [
    "algo_courses = ['Data Structure', 'Algo', 'AI']\n",
    "courses = language_courses + algo_courses\n",
    "print(courses)"
   ]
  },
  {
   "cell_type": "code",
   "execution_count": 19,
   "metadata": {},
   "outputs": [
    {
     "name": "stdout",
     "output_type": "stream",
     "text": [
      "['C', 'C++', 'JAVA', 'JS', 'C#', 'PHP', 'Python', 'Data Structure', 'Algo', 'AI', 'abc']\n"
     ]
    }
   ],
   "source": [
    "courses.extend(['abc'])\n",
    "print(courses)"
   ]
  },
  {
   "cell_type": "code",
   "execution_count": 20,
   "metadata": {},
   "outputs": [
    {
     "name": "stdout",
     "output_type": "stream",
     "text": [
      "['C', 'C++', 'JAVA', 'JS', 'C#', 'PHP', 'Python', 'Data Structure', 'Algo', 'AI', 'abc', 'a', 'b', 'c']\n"
     ]
    }
   ],
   "source": [
    "courses.extend('abc')\n",
    "print(courses)"
   ]
  },
  {
   "cell_type": "code",
   "execution_count": 21,
   "metadata": {},
   "outputs": [
    {
     "name": "stdout",
     "output_type": "stream",
     "text": [
      "c\n",
      "['C', 'C++', 'JAVA', 'JS', 'C#', 'PHP', 'Python', 'Data Structure', 'Algo', 'AI', 'abc', 'a', 'b']\n"
     ]
    }
   ],
   "source": [
    "poped_item = courses.pop()\n",
    "print(poped_item)\n",
    "print(courses)"
   ]
  },
  {
   "cell_type": "code",
   "execution_count": 23,
   "metadata": {},
   "outputs": [
    {
     "name": "stdout",
     "output_type": "stream",
     "text": [
      "a\n",
      "['C', 'C++', 'JAVA', 'JS', 'C#', 'PHP', 'Python', 'Data Structure', 'Algo', 'AI', 'abc']\n"
     ]
    }
   ],
   "source": [
    "poped_item = courses.pop()\n",
    "print(poped_item)\n",
    "print(courses)"
   ]
  },
  {
   "cell_type": "code",
   "execution_count": 24,
   "metadata": {},
   "outputs": [
    {
     "name": "stdout",
     "output_type": "stream",
     "text": [
      "abc\n"
     ]
    }
   ],
   "source": [
    "print(courses.pop(-1))"
   ]
  },
  {
   "cell_type": "code",
   "execution_count": 25,
   "metadata": {},
   "outputs": [
    {
     "name": "stdout",
     "output_type": "stream",
     "text": [
      "['C', 'C++', 'JAVA', 'JS', 'C#', 'PHP', 'Python', 'Data Structure', 'Algo', 'AI']\n"
     ]
    }
   ],
   "source": [
    "print(courses)"
   ]
  },
  {
   "cell_type": "markdown",
   "metadata": {},
   "source": [
    "# Delete\n",
    "    * pop()\n",
    "    * remove()      # remove an item by value\n",
    "    * del()         # remove item by index or slice\n",
    "    * clear()       # remove all the items\n",
    "    * list comprehension     # remove multiple items that meet a condition"
   ]
  },
  {
   "cell_type": "code",
   "execution_count": 26,
   "metadata": {},
   "outputs": [
    {
     "name": "stdout",
     "output_type": "stream",
     "text": [
      "['C++', 'JAVA', 'JS', 'C#']\n"
     ]
    }
   ],
   "source": [
    "print(courses[1:5])         # slice operator listName[startIndex : endIndex + 1] \n",
    "                            # startIndex (inclusive) & endIndex is exclusive"
   ]
  },
  {
   "cell_type": "code",
   "execution_count": 27,
   "metadata": {},
   "outputs": [
    {
     "name": "stdout",
     "output_type": "stream",
     "text": [
      "['C', 'C++', 'JAVA']\n"
     ]
    }
   ],
   "source": [
    "print(courses[0:3])"
   ]
  },
  {
   "cell_type": "code",
   "execution_count": 28,
   "metadata": {},
   "outputs": [
    {
     "name": "stdout",
     "output_type": "stream",
     "text": [
      "['C', 'C++', 'JAVA']\n"
     ]
    }
   ],
   "source": [
    "print(courses[:3])"
   ]
  },
  {
   "cell_type": "code",
   "execution_count": 29,
   "metadata": {},
   "outputs": [
    {
     "name": "stdout",
     "output_type": "stream",
     "text": [
      "['PHP', 'Python', 'Data Structure', 'Algo', 'AI']\n"
     ]
    }
   ],
   "source": [
    "print(courses[5:])"
   ]
  },
  {
   "cell_type": "code",
   "execution_count": 30,
   "metadata": {},
   "outputs": [
    {
     "name": "stdout",
     "output_type": "stream",
     "text": [
      "['PHP', 'Python', 'Data Structure', 'Algo']\n"
     ]
    }
   ],
   "source": [
    "print(courses[5:-1])  # negative indexing is allowed in slice operation"
   ]
  },
  {
   "cell_type": "code",
   "execution_count": 31,
   "metadata": {},
   "outputs": [
    {
     "name": "stdout",
     "output_type": "stream",
     "text": [
      "['JAVA', 'JS', 'C#', 'PHP', 'Python', 'Data Structure']\n"
     ]
    }
   ],
   "source": [
    "print(courses[2:-2])"
   ]
  },
  {
   "cell_type": "code",
   "execution_count": 32,
   "metadata": {},
   "outputs": [
    {
     "name": "stdout",
     "output_type": "stream",
     "text": [
      "['abc', 1, 'a', 3.14]\n"
     ]
    }
   ],
   "source": [
    "listOfMixedTypes = ['abc', 1, 'a', 3.14]\n",
    "print(listOfMixedTypes)"
   ]
  },
  {
   "cell_type": "code",
   "execution_count": 33,
   "metadata": {},
   "outputs": [
    {
     "name": "stdout",
     "output_type": "stream",
     "text": [
      "[['a', 'b'], [1, 2, 3, 4], ['one', 'two', 'three']]\n"
     ]
    }
   ],
   "source": [
    "listOfLists = [\n",
    "    ['a','b'],\n",
    "    [1,2,3,4],\n",
    "    ['one', 'two', 'three']\n",
    "]\n",
    "print(listOfLists)"
   ]
  },
  {
   "cell_type": "code",
   "execution_count": 34,
   "metadata": {},
   "outputs": [
    {
     "name": "stdout",
     "output_type": "stream",
     "text": [
      "two\n"
     ]
    }
   ],
   "source": [
    "print(listOfLists[2][1])"
   ]
  },
  {
   "cell_type": "code",
   "execution_count": 35,
   "metadata": {},
   "outputs": [
    {
     "name": "stdout",
     "output_type": "stream",
     "text": [
      "[['a', 'b'], [1, 2, 3, 4]]\n"
     ]
    }
   ],
   "source": [
    "listOfLists.pop()\n",
    "print(listOfLists)"
   ]
  },
  {
   "cell_type": "code",
   "execution_count": 36,
   "metadata": {},
   "outputs": [
    {
     "name": "stdout",
     "output_type": "stream",
     "text": [
      "['c', 'b', 'a']\n"
     ]
    }
   ],
   "source": [
    "x = ['a', 'b', 'c']\n",
    "x.reverse()\n",
    "print(x)"
   ]
  },
  {
   "cell_type": "code",
   "execution_count": 37,
   "metadata": {},
   "outputs": [
    {
     "name": "stdout",
     "output_type": "stream",
     "text": [
      "3\n"
     ]
    }
   ],
   "source": [
    "print(len(x))"
   ]
  },
  {
   "cell_type": "code",
   "execution_count": null,
   "metadata": {},
   "outputs": [],
   "source": []
  }
 ],
 "metadata": {
  "kernelspec": {
   "display_name": "Python 3",
   "language": "python",
   "name": "python3"
  },
  "language_info": {
   "codemirror_mode": {
    "name": "ipython",
    "version": 3
   },
   "file_extension": ".py",
   "mimetype": "text/x-python",
   "name": "python",
   "nbconvert_exporter": "python",
   "pygments_lexer": "ipython3",
   "version": "3.7.4"
  }
 },
 "nbformat": 4,
 "nbformat_minor": 4
}
