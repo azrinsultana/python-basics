{
 "cells": [
  {
   "cell_type": "code",
   "execution_count": 2,
   "metadata": {},
   "outputs": [
    {
     "data": {
      "text/plain": [
       "1"
      ]
     },
     "execution_count": 2,
     "metadata": {},
     "output_type": "execute_result"
    }
   ],
   "source": [
    "7-6\n"
   ]
  },
  {
   "cell_type": "markdown",
   "metadata": {},
   "source": [
    "# List"
   ]
  },
  {
   "cell_type": "code",
   "execution_count": 3,
   "metadata": {},
   "outputs": [
    {
     "data": {
      "text/plain": [
       "3"
      ]
     },
     "execution_count": 3,
     "metadata": {},
     "output_type": "execute_result"
    }
   ],
   "source": [
    "a=[\"bread\",\"pasta\",\"noodles\"]\n",
    "len(a)"
   ]
  },
  {
   "cell_type": "code",
   "execution_count": 4,
   "metadata": {},
   "outputs": [
    {
     "data": {
      "text/plain": [
       "'bread'"
      ]
     },
     "execution_count": 4,
     "metadata": {},
     "output_type": "execute_result"
    }
   ],
   "source": [
    "a[0]"
   ]
  },
  {
   "cell_type": "code",
   "execution_count": 5,
   "metadata": {},
   "outputs": [
    {
     "data": {
      "text/plain": [
       "['noodles']"
      ]
     },
     "execution_count": 5,
     "metadata": {},
     "output_type": "execute_result"
    }
   ],
   "source": [
    "a[-1:]"
   ]
  },
  {
   "cell_type": "code",
   "execution_count": 6,
   "metadata": {},
   "outputs": [
    {
     "data": {
      "text/plain": [
       "['bread', 'pasta']"
      ]
     },
     "execution_count": 6,
     "metadata": {},
     "output_type": "execute_result"
    }
   ],
   "source": [
    "a[0:2]"
   ]
  },
  {
   "cell_type": "markdown",
   "metadata": {},
   "source": [
    "Let us say your expense for every month are listed below,\n",
    "January - 2200\n",
    "February - 2350\n",
    "March - 2600\n",
    "April - 2130\n",
    "May - 2190\n",
    "Create a list to store these monthly expenses and using that find out,\n",
    "\n",
    "1. In Feb, how many dollars you spent extra compare to January?\n",
    "2. Find out your total expense in first quarter (first three months) of the year.\n",
    "3. Find out if you spent exactly 2000 dollars in any month\n",
    "4. June month just finished and your expense is 1980 dollar. Add this item to our monthly expense list\n",
    "5. You returned an item that you bought in a month of April and got a refund of 200$.Make a correction to your monthly expense list based on this\n"
   ]
  },
  {
   "cell_type": "code",
   "execution_count": 12,
   "metadata": {},
   "outputs": [
    {
     "name": "stdout",
     "output_type": "stream",
     "text": [
      "[2200, 2350, 2600, 2130, 2190]\n"
     ]
    }
   ],
   "source": [
    "list1=[2200,2350,2600,2130,2190]\n",
    "print(list1)"
   ]
  },
  {
   "cell_type": "code",
   "execution_count": 10,
   "metadata": {},
   "outputs": [
    {
     "name": "stdout",
     "output_type": "stream",
     "text": [
      "spend extra money in feb is 150\n"
     ]
    }
   ],
   "source": [
    "print(\"spend extra money in feb is\",list1[1]-list1[0])"
   ]
  },
  {
   "cell_type": "code",
   "execution_count": 11,
   "metadata": {},
   "outputs": [
    {
     "name": "stdout",
     "output_type": "stream",
     "text": [
      "total expense in first quarter (first three months) of the year 7150\n"
     ]
    }
   ],
   "source": [
    "print(\"total expense in first quarter (first three months) of the year\",list1[0]+list1[1]+list1[2])"
   ]
  },
  {
   "cell_type": "code",
   "execution_count": 13,
   "metadata": {},
   "outputs": [
    {
     "data": {
      "text/plain": [
       "False"
      ]
     },
     "execution_count": 13,
     "metadata": {},
     "output_type": "execute_result"
    }
   ],
   "source": [
    "2000 in list1"
   ]
  },
  {
   "cell_type": "code",
   "execution_count": 14,
   "metadata": {},
   "outputs": [
    {
     "name": "stdout",
     "output_type": "stream",
     "text": [
      "[2200, 2350, 2600, 2130, 2190, 1980]\n"
     ]
    }
   ],
   "source": [
    "list1.append(1980)\n",
    "print(list1)"
   ]
  },
  {
   "cell_type": "code",
   "execution_count": 16,
   "metadata": {},
   "outputs": [
    {
     "name": "stdout",
     "output_type": "stream",
     "text": [
      "[2200, 2350, 2600, 1730, 2190, 1980]\n"
     ]
    }
   ],
   "source": [
    "list1[3]=list1[3]-200\n",
    "print(list1)"
   ]
  },
  {
   "cell_type": "code",
   "execution_count": null,
   "metadata": {},
   "outputs": [],
   "source": [
    "heros=['spider man','thor','hulk','iron man','captain america']\n",
    "1. Length of the list\n",
    "2. Add 'black panther' at the end of this list\n",
    "3. You realize that you need to add 'black panther' after 'hulk',\n",
    "   so remove it from the list first and then add it after 'hulk'\n",
    "4. Now you don't like thor and hulk because they get angry easily :)\n",
    "   So you want to remove thor and hulk from list and replace them with doctor strange (because he is cool).\n",
    "   Do that with one line of code.\n",
    "5. Sort the heros list in alphabetical order (Hint. Use dir() functions to list down all functions available in list)"
   ]
  },
  {
   "cell_type": "code",
   "execution_count": 17,
   "metadata": {},
   "outputs": [
    {
     "name": "stdout",
     "output_type": "stream",
     "text": [
      "['spider man', 'thor', 'hulk', 'iron man', 'captain america']\n"
     ]
    }
   ],
   "source": [
    "heros=['spider man','thor','hulk','iron man','captain america']\n",
    "print(heros)"
   ]
  },
  {
   "cell_type": "code",
   "execution_count": 18,
   "metadata": {},
   "outputs": [
    {
     "data": {
      "text/plain": [
       "5"
      ]
     },
     "execution_count": 18,
     "metadata": {},
     "output_type": "execute_result"
    }
   ],
   "source": [
    "len(heros)"
   ]
  },
  {
   "cell_type": "code",
   "execution_count": 19,
   "metadata": {},
   "outputs": [
    {
     "name": "stdout",
     "output_type": "stream",
     "text": [
      "['spider man', 'thor', 'hulk', 'iron man', 'captain america', 'black panther']\n"
     ]
    }
   ],
   "source": [
    "heros.append('black panther')\n",
    "print(heros)"
   ]
  },
  {
   "cell_type": "code",
   "execution_count": 21,
   "metadata": {},
   "outputs": [
    {
     "name": "stdout",
     "output_type": "stream",
     "text": [
      "['spider man', 'thor', 'black panther', 'black panther', 'hulk', 'iron man', 'captain america', 'black panther']\n"
     ]
    }
   ],
   "source": [
    "heros.insert(3,'black panther')\n",
    "print(heros)"
   ]
  },
  {
   "cell_type": "code",
   "execution_count": 22,
   "metadata": {},
   "outputs": [
    {
     "name": "stdout",
     "output_type": "stream",
     "text": [
      "['spider man', 'thor', 'black panther', 'hulk', 'iron man', 'captain america', 'black panther']\n"
     ]
    }
   ],
   "source": [
    "heros.remove('black panther')\n",
    "print(heros)"
   ]
  },
  {
   "cell_type": "code",
   "execution_count": 23,
   "metadata": {},
   "outputs": [
    {
     "name": "stdout",
     "output_type": "stream",
     "text": [
      "['spider man', 'thor', 'hulk', 'iron man', 'captain america', 'black panther']\n"
     ]
    }
   ],
   "source": [
    "heros.remove('black panther')\n",
    "print(heros)"
   ]
  },
  {
   "cell_type": "code",
   "execution_count": 24,
   "metadata": {},
   "outputs": [
    {
     "name": "stdout",
     "output_type": "stream",
     "text": [
      "['spider man', 'thor', 'hulk', 'iron man', 'captain america']\n"
     ]
    }
   ],
   "source": [
    "heros.remove('black panther')\n",
    "print(heros)"
   ]
  },
  {
   "cell_type": "code",
   "execution_count": 25,
   "metadata": {},
   "outputs": [
    {
     "name": "stdout",
     "output_type": "stream",
     "text": [
      "['spider man', 'thor', 'hulk', 'black panther', 'iron man', 'captain america']\n"
     ]
    }
   ],
   "source": [
    "heros.insert(3,'black panther')\n",
    "print(heros)"
   ]
  },
  {
   "cell_type": "markdown",
   "metadata": {},
   "source": [
    "# If Else statement"
   ]
  },
  {
   "cell_type": "code",
   "execution_count": 27,
   "metadata": {},
   "outputs": [
    {
     "name": "stdout",
     "output_type": "stream",
     "text": [
      "enter number=7\n",
      "number is 7\n"
     ]
    }
   ],
   "source": [
    "num=input(\"enter number=\")\n",
    "num=int(num)\n",
    "print(\"number is\",num)"
   ]
  },
  {
   "cell_type": "code",
   "execution_count": 29,
   "metadata": {},
   "outputs": [
    {
     "name": "stdout",
     "output_type": "stream",
     "text": [
      "other\n"
     ]
    }
   ],
   "source": [
    "if num==5:\n",
    "    print(\"even\")\n",
    "else:\n",
    "    print(\"other\")\n",
    "\n",
    "    "
   ]
  },
  {
   "cell_type": "code",
   "execution_count": null,
   "metadata": {},
   "outputs": [],
   "source": [
    "Using following list of cities per country,\n",
    "india = [\"mumbai\", \"banglore\", \"chennai\", \"delhi\"]\n",
    "pakistan = [\"lahore\",\"karachi\",\"islamabad\"]\n",
    "bangladesh = [\"dhaka\", \"khulna\", \"rangpur\"]\n",
    "Write a program that asks user to enter a city name and it should tell which country the city belongs to\n",
    "Write a program that asks user to enter two cities and it tells you if they both are in same country or not.\n",
    "For example if I enter mumbai and chennai, it will print \"Both cities are in India\" \n",
    "but if I enter mumbai and dhaka it should print \"They don't belong to same country\""
   ]
  },
  {
   "cell_type": "code",
   "execution_count": 31,
   "metadata": {},
   "outputs": [
    {
     "name": "stdout",
     "output_type": "stream",
     "text": [
      "enter city name dhaka\n",
      "in bangladesh\n"
     ]
    }
   ],
   "source": [
    "india = [\"mumbai\", \"banglore\", \"chennai\", \"delhi\"]\n",
    "pakistan = [\"lahore\",\"karachi\",\"islamabad\"]\n",
    "bangladesh =[\"dhaka\", \"khulna\", \"rangpur\"]\n",
    "city=input(\"enter city name \")\n",
    "\n",
    "if city in india:\n",
    "    print(\"in india\")\n",
    "elif city in pakistan:\n",
    "    print(\"in pakistan\")\n",
    "elif city in bangladesh:\n",
    "    print(\"in bangladesh\")\n",
    "else:\n"
   ]
  },
  {
   "cell_type": "code",
   "execution_count": 33,
   "metadata": {},
   "outputs": [
    {
     "name": "stdout",
     "output_type": "stream",
     "text": [
      "enter city 1mumbai\n",
      "enter city2delhi\n",
      "same country in india\n"
     ]
    }
   ],
   "source": [
    "india = [\"mumbai\", \"banglore\", \"chennai\", \"delhi\"]\n",
    "pakistan = [\"lahore\",\"karachi\",\"islamabad\"]\n",
    "bangladesh =[\"dhaka\", \"khulna\", \"rangpur\"]\n",
    "city1=input(\"enter city 1\")\n",
    "city2=input(\"enter city2\")\n",
    "if city1 in india and city2 in india:\n",
    "    print(\"same country in india\")\n",
    "elif city1 in pakistan and city2 in pakistan:\n",
    "    print(\"same city in pakistan\")\n",
    "elif city1 in bangladesh and city2 in bangladesh:\n",
    "    print(\"same city in bangladesh\")\n",
    "else:\n",
    "    print(\"other\")\n"
   ]
  },
  {
   "cell_type": "markdown",
   "metadata": {},
   "source": [
    "# LOOP"
   ]
  },
  {
   "cell_type": "code",
   "execution_count": null,
   "metadata": {},
   "outputs": [],
   "source": [
    "After flipping a coin 10 times you got this result,\n",
    "result = [\"heads\",\"tails\",\"tails\",\"heads\",\"tails\",\"heads\",\"heads\",\"tails\",\"tails\",\"tails\"]\n",
    "Using for loop figure out how many times you got heads"
   ]
  },
  {
   "cell_type": "code",
   "execution_count": 22,
   "metadata": {},
   "outputs": [
    {
     "name": "stdout",
     "output_type": "stream",
     "text": [
      "heads\n",
      "tails\n",
      "tails\n",
      "heads\n",
      "tails\n",
      "heads\n",
      "heads\n",
      "tails\n",
      "tails\n",
      "tails\n"
     ]
    }
   ],
   "source": [
    "result = [\"heads\",\"tails\",\"tails\",\"heads\",\"tails\",\"heads\",\"heads\",\"tails\",\"tails\",\"tails\"]\n",
    "for i in result:\n",
    "    print(i)"
   ]
  },
  {
   "cell_type": "code",
   "execution_count": 37,
   "metadata": {},
   "outputs": [
    {
     "name": "stdout",
     "output_type": "stream",
     "text": [
      "4\n"
     ]
    }
   ],
   "source": [
    "result = [\"heads\",\"tails\",\"tails\",\"heads\",\"tails\",\"heads\",\"heads\",\"tails\",\"tails\",\"tails\"]\n",
    "total=0\n",
    "for i in result:\n",
    "    if i==\"heads\":\n",
    "        total=total+1\n",
    "print(total)\n",
    "      "
   ]
  },
  {
   "cell_type": "code",
   "execution_count": null,
   "metadata": {},
   "outputs": [],
   "source": [
    "Print square of all numbers between 1 to 10 except even numbers"
   ]
  },
  {
   "cell_type": "code",
   "execution_count": 41,
   "metadata": {},
   "outputs": [
    {
     "name": "stdout",
     "output_type": "stream",
     "text": [
      "1\n",
      "9\n",
      "25\n",
      "49\n",
      "81\n"
     ]
    }
   ],
   "source": [
    "for i in range(10):\n",
    "    if i%2==0:\n",
    "        continue\n",
    "    print(i*i)"
   ]
  },
  {
   "cell_type": "code",
   "execution_count": null,
   "metadata": {},
   "outputs": [],
   "source": [
    "Your monthly expense list (from Jan to May) looks like this,\n",
    "expense_list = [2340, 2500, 2100, 3100, 2980]\n",
    "Write a program that asks you to enter an expense amount and program should tell you \n",
    "in which month that expense occurred. If expense is not found then it should print that as well."
   ]
  },
  {
   "cell_type": "code",
   "execution_count": null,
   "metadata": {},
   "outputs": [],
   "source": [
    "*\n",
    "**\n",
    "***\n",
    "****\n",
    "*****\n"
   ]
  },
  {
   "cell_type": "code",
   "execution_count": 49,
   "metadata": {},
   "outputs": [
    {
     "name": "stdout",
     "output_type": "stream",
     "text": [
      "*\n",
      "*\n",
      "**\n",
      "*\n",
      "**\n",
      "***\n",
      "*\n",
      "**\n",
      "***\n",
      "****\n",
      "*\n",
      "**\n",
      "***\n",
      "****\n",
      "*****\n"
     ]
    }
   ],
   "source": [
    "for i in range(1,6):\n",
    "    s=''\n",
    "    for j in range(i):\n",
    "        s+='*'\n",
    "        print(s)\n",
    "    "
   ]
  },
  {
   "cell_type": "code",
   "execution_count": 54,
   "metadata": {},
   "outputs": [
    {
     "name": "stdout",
     "output_type": "stream",
     "text": [
      "\n",
      "*\n",
      "**\n",
      "***\n",
      "****\n",
      "*****\n"
     ]
    }
   ],
   "source": [
    "for i in range(6):\n",
    "    s = ''\n",
    "    for j in range(i):\n",
    "        s += '*'\n",
    "    print(s)"
   ]
  },
  {
   "cell_type": "code",
   "execution_count": 56,
   "metadata": {},
   "outputs": [
    {
     "name": "stdout",
     "output_type": "stream",
     "text": [
      "\n",
      "*\n",
      "**\n",
      "***\n",
      "****\n",
      "*****\n"
     ]
    }
   ],
   "source": [
    "for i in range(6):\n",
    "    s = ''\n",
    "    for j in range(i):\n",
    "        s +='*'\n",
    "    print(s)\n",
    "    "
   ]
  },
  {
   "cell_type": "markdown",
   "metadata": {},
   "source": [
    "# Function"
   ]
  },
  {
   "cell_type": "code",
   "execution_count": null,
   "metadata": {},
   "outputs": [],
   "source": [
    "Write a function called calculate_area that takes base and height as an input and returns and area of a triangle.\n",
    "Equation of an area of a triangle is,"
   ]
  },
  {
   "cell_type": "code",
   "execution_count": 5,
   "metadata": {},
   "outputs": [
    {
     "name": "stdout",
     "output_type": "stream",
     "text": [
      "base=10\n",
      "height=20\n",
      "area: 100.0\n"
     ]
    }
   ],
   "source": [
    "def calculate_area(base,height):\n",
    "    area = (1/2)*base*height\n",
    "    return area\n",
    "base=float(input(\"base=\"))\n",
    "height=float(input(\"height=\"))\n",
    "area=calculate_area(base,height)\n",
    "print(\"area:\",area)\n"
   ]
  },
  {
   "cell_type": "code",
   "execution_count": null,
   "metadata": {},
   "outputs": [],
   "source": [
    "Modify above function to take third parameter shape type. \n",
    "It can be either \"triangle\" or \"rectangle\". Based on shape type it will calculate area.\n",
    "Equation of rectangle's area is,"
   ]
  },
  {
   "cell_type": "code",
   "execution_count": 10,
   "metadata": {},
   "outputs": [
    {
     "name": "stdout",
     "output_type": "stream",
     "text": [
      "base=20\n",
      "height=20\n",
      "area: 400.0\n"
     ]
    }
   ],
   "source": [
    "\n",
    "def calculate_rectangle(length,width):\n",
    "    rectangle_area=length*width\n",
    "    return rectangle_area\n",
    "base=float(input(\"base=\"))\n",
    "height=float(input(\"height=\"))\n",
    "area=calculate_rectangle(base,height)\n",
    "print(\"area:\",area)"
   ]
  },
  {
   "cell_type": "markdown",
   "metadata": {},
   "source": [
    "# Dictionaries"
   ]
  },
  {
   "cell_type": "code",
   "execution_count": 13,
   "metadata": {},
   "outputs": [
    {
     "name": "stdout",
     "output_type": "stream",
     "text": [
      "{'name': 'azrin', 'area': 'kapasia', 'age': 20}\n"
     ]
    }
   ],
   "source": [
    "dic={\"name\":\"azrin\",\"area\":\"kapasia\",\"age\":20}\n",
    "print(dic)"
   ]
  },
  {
   "cell_type": "code",
   "execution_count": 16,
   "metadata": {},
   "outputs": [
    {
     "name": "stdout",
     "output_type": "stream",
     "text": [
      "{'name': 'azrin', 'area': 'kapasia', 'age': 20, 'vill': 'kapasia'}\n"
     ]
    }
   ],
   "source": [
    "dic[\"vill\"]=\"kapasia\"\n",
    "print(dic)"
   ]
  },
  {
   "cell_type": "code",
   "execution_count": 17,
   "metadata": {},
   "outputs": [
    {
     "name": "stdout",
     "output_type": "stream",
     "text": [
      "{'name': 'azrin', 'area': 'kapasia', 'age': 20}\n"
     ]
    }
   ],
   "source": [
    "del dic[\"vill\"]\n",
    "print(dic)"
   ]
  },
  {
   "cell_type": "code",
   "execution_count": 25,
   "metadata": {},
   "outputs": [
    {
     "name": "stdout",
     "output_type": "stream",
     "text": [
      "azrin\n",
      "kapasia\n",
      "20\n"
     ]
    }
   ],
   "source": [
    "for key in dic:\n",
    "    print(dic[key])"
   ]
  },
  {
   "cell_type": "code",
   "execution_count": 24,
   "metadata": {},
   "outputs": [
    {
     "data": {
      "text/plain": [
       "True"
      ]
     },
     "execution_count": 24,
     "metadata": {},
     "output_type": "execute_result"
    }
   ],
   "source": [
    "\"area\" in dic"
   ]
  },
  {
   "cell_type": "code",
   "execution_count": 26,
   "metadata": {},
   "outputs": [
    {
     "data": {
      "text/plain": [
       "False"
      ]
     },
     "execution_count": 26,
     "metadata": {},
     "output_type": "execute_result"
    }
   ],
   "source": [
    "\"vill\" in dic"
   ]
  },
  {
   "cell_type": "code",
   "execution_count": 28,
   "metadata": {},
   "outputs": [],
   "source": [
    "dic.clear()"
   ]
  },
  {
   "cell_type": "code",
   "execution_count": 29,
   "metadata": {},
   "outputs": [
    {
     "name": "stdout",
     "output_type": "stream",
     "text": [
      "{}\n"
     ]
    }
   ],
   "source": [
    "print(dic)"
   ]
  },
  {
   "cell_type": "markdown",
   "metadata": {},
   "source": [
    "# Country\tPopulation dictionary problem\n",
    "China\t143\n",
    "India\t136\n",
    "USA\t32\n",
    "Pakistan\t21\n",
    "Using above create a dictionary of countries and its population\n",
    "1.Write a program that asks user for three type of inputs,\n",
    "print: if user enter print then it should print all countries with their population in this format,\n",
    "china==>143\n",
    "india==>136\n",
    "usa==>32\n",
    "pakistan==>21\n",
    "2.add: if user input add then it should further ask for a country name to add. \n",
    "    If country already exist in our dataset then it should print that it exist and do nothing. \n",
    "    If it doesn't then it asks for population and add that new country/population in our dictionary and print it\n",
    "    \n",
    "3 remove: when user inputs remove it should ask for a country to remove. \n",
    "    If country exist in our dictionary then remove it and print new dictionary using format shown above in (a). \n",
    "    Else print that country doesn't exist!\n",
    "4 query: on this again ask user for which country he or she wants to query. When user inputs that country it will print population of that country.\n"
   ]
  },
  {
   "cell_type": "code",
   "execution_count": 37,
   "metadata": {},
   "outputs": [
    {
     "name": "stdout",
     "output_type": "stream",
     "text": [
      "enter input: query\n",
      "country nameindia\n",
      "The population is:  136\n"
     ]
    }
   ],
   "source": [
    "country={\"china\":143,\"india\":136,\"usa\":32,\"pakistan\":21}\n",
    "i_user=input(\"enter input: \")\n",
    "if i_user==\"print\":\n",
    "    for key in country:\n",
    "        print(key,\"==>\",country[key])\n",
    "elif i_user==\"add\":\n",
    "    cname=input(\"country name\")\n",
    "    if cname in country:\n",
    "        print(\"already exist\")\n",
    "    else:\n",
    "        cpop=float(input(\"country population\"))\n",
    "        country[cname]=cpop\n",
    "        print(country)\n",
    "elif i_user==\"remove\":\n",
    "    cname=input(\"country name: \")\n",
    "    if cname in country:\n",
    "        del country[cname] \n",
    "        print(\"after removing the dictionary is: \",country)\n",
    "    else:\n",
    "        print(\"country name doesn't exist\")\n",
    "elif i_user==\"query\":\n",
    "    cname=input(\"country name\")\n",
    "    if cname in country:\n",
    "        print(\"The population is: \",country[cname])\n",
    "    else:\n",
    "        print(\"country doesn't exist\")\n",
    "    \n",
    "else:\n",
    "    print(\"enter correct input\")"
   ]
  },
  {
   "cell_type": "markdown",
   "metadata": {},
   "source": [
    "# Tuples"
   ]
  },
  {
   "cell_type": "code",
   "execution_count": 38,
   "metadata": {},
   "outputs": [
    {
     "name": "stdout",
     "output_type": "stream",
     "text": [
      "('azrin', 24, 'kapsia')\n"
     ]
    }
   ],
   "source": [
    "t=(\"azrin\",24,\"kapsia\")\n",
    "print(t)"
   ]
  },
  {
   "cell_type": "code",
   "execution_count": null,
   "metadata": {},
   "outputs": [],
   "source": []
  }
 ],
 "metadata": {
  "kernelspec": {
   "display_name": "Python 3",
   "language": "python",
   "name": "python3"
  },
  "language_info": {
   "codemirror_mode": {
    "name": "ipython",
    "version": 3
   },
   "file_extension": ".py",
   "mimetype": "text/x-python",
   "name": "python",
   "nbconvert_exporter": "python",
   "pygments_lexer": "ipython3",
   "version": "3.8.3"
  }
 },
 "nbformat": 4,
 "nbformat_minor": 4
}
